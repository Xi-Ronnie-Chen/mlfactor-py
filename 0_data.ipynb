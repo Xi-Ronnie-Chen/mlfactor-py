{
 "cells": [
  {
   "cell_type": "markdown",
   "metadata": {},
   "source": [
    "# Data Processing"
   ]
  },
  {
   "cell_type": "code",
   "execution_count": 1,
   "metadata": {},
   "outputs": [],
   "source": [
    "import pandas as pd"
   ]
  },
  {
   "cell_type": "markdown",
   "metadata": {},
   "source": [
    "---"
   ]
  },
  {
   "cell_type": "markdown",
   "metadata": {},
   "source": [
    "## Fama-French Factors"
   ]
  },
  {
   "cell_type": "code",
   "execution_count": 2,
   "metadata": {},
   "outputs": [],
   "source": [
    "ff_data_lib_url = 'http://mba.tuck.dartmouth.edu/pages/faculty/ken.french/ftp/'"
   ]
  },
  {
   "cell_type": "markdown",
   "metadata": {},
   "source": [
    "### 5 Factors"
   ]
  },
  {
   "cell_type": "code",
   "execution_count": 3,
   "metadata": {},
   "outputs": [],
   "source": [
    "url = ff_data_lib_url + 'F-F_Research_Data_5_Factors_2x3_CSV.zip'\n",
    "nrows = 687\n",
    "\n",
    "df_ff_factors = (\n",
    "    pd.read_csv(url, skiprows=3, index_col=0, nrows=nrows, na_values=-99.99).\n",
    "    rename(columns={'Mkt-RF': 'MKT_RF'})\n",
    ")\n",
    "df_ff_factors = df_ff_factors / 100\n",
    "df_ff_factors.index = pd.to_datetime(df_ff_factors.index, format='%Y%m').to_period('M')\n",
    "df_ff_factors.to_pickle('./data/ff_5f_m.pkl')"
   ]
  },
  {
   "cell_type": "markdown",
   "metadata": {},
   "source": [
    "---"
   ]
  }
 ],
 "metadata": {
  "kernelspec": {
   "display_name": "Python 3",
   "language": "python",
   "name": "python3"
  },
  "language_info": {
   "codemirror_mode": {
    "name": "ipython",
    "version": 3
   },
   "file_extension": ".py",
   "mimetype": "text/x-python",
   "name": "python",
   "nbconvert_exporter": "python",
   "pygments_lexer": "ipython3",
   "version": "3.8.5"
  }
 },
 "nbformat": 4,
 "nbformat_minor": 4
}
